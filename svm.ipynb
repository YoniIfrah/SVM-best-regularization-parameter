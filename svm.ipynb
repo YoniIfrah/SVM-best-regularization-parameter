{
  "nbformat": 4,
  "nbformat_minor": 0,
  "metadata": {
    "colab": {
      "provenance": []
    },
    "kernelspec": {
      "name": "python3",
      "display_name": "Python 3"
    },
    "language_info": {
      "name": "python"
    }
  },
  "cells": [
    {
      "cell_type": "code",
      "execution_count": null,
      "metadata": {
        "id": "pCQe31vQXmml"
      },
      "outputs": [],
      "source": [
        "from sklearn import datasets     \n",
        "from sklearn import svm          \n",
        "import numpy as np\n",
        "import matplotlib.pyplot as plt    \n",
        "import pandas as pd\n",
        "from sklearn.model_selection import train_test_split\n",
        "from sklearn.preprocessing import scale\n",
        "\n"
      ]
    },
    {
      "cell_type": "markdown",
      "source": [
        "adding the data from uci repo"
      ],
      "metadata": {
        "id": "AP0I409VdmHJ"
      }
    },
    {
      "cell_type": "code",
      "source": [
        "df = pd.read_csv('https://archive.ics.uci.edu/ml/machine-learning-databases/spambase/spambase.data',\n",
        "sep = ',', header= None)\n",
        "print(df.head())"
      ],
      "metadata": {
        "colab": {
          "base_uri": "https://localhost:8080/"
        },
        "id": "I9K-JOuTcwyF",
        "outputId": "4d8833c7-40d6-46fa-93e6-553242eefdf1"
      },
      "execution_count": null,
      "outputs": [
        {
          "output_type": "stream",
          "name": "stdout",
          "text": [
            "     0     1     2    3     4     5     6     7     8     9   ...    48  \\\n",
            "0  0.00  0.64  0.64  0.0  0.32  0.00  0.00  0.00  0.00  0.00  ...  0.00   \n",
            "1  0.21  0.28  0.50  0.0  0.14  0.28  0.21  0.07  0.00  0.94  ...  0.00   \n",
            "2  0.06  0.00  0.71  0.0  1.23  0.19  0.19  0.12  0.64  0.25  ...  0.01   \n",
            "3  0.00  0.00  0.00  0.0  0.63  0.00  0.31  0.63  0.31  0.63  ...  0.00   \n",
            "4  0.00  0.00  0.00  0.0  0.63  0.00  0.31  0.63  0.31  0.63  ...  0.00   \n",
            "\n",
            "      49   50     51     52     53     54   55    56  57  \n",
            "0  0.000  0.0  0.778  0.000  0.000  3.756   61   278   1  \n",
            "1  0.132  0.0  0.372  0.180  0.048  5.114  101  1028   1  \n",
            "2  0.143  0.0  0.276  0.184  0.010  9.821  485  2259   1  \n",
            "3  0.137  0.0  0.137  0.000  0.000  3.537   40   191   1  \n",
            "4  0.135  0.0  0.135  0.000  0.000  3.537   40   191   1  \n",
            "\n",
            "[5 rows x 58 columns]\n"
          ]
        }
      ]
    },
    {
      "cell_type": "markdown",
      "source": [
        "#Renaming columns"
      ],
      "metadata": {
        "id": "FPunDnxzMwvP"
      }
    },
    {
      "cell_type": "code",
      "source": [
        "df.columns  = [\"word_freq_make\", \"word_freq_address\", \"word_freq_all\", \"word_freq_3d\", \n",
        "                      \"word_freq_our\", \"word_freq_over\", \"word_freq_remove\", \"word_freq_internet\", \n",
        "                      \"word_freq_order\", \"word_freq_mail\", \"word_freq_receive\", \"word_freq_will\", \n",
        "                      \"word_freq_people\", \"word_freq_report\", \"word_freq_addresses\", \"word_freq_free\", \n",
        "                      \"word_freq_business\", \"word_freq_email\", \"word_freq_you\", \"word_freq_credit\", \n",
        "                      \"word_freq_your\", \"word_freq_font\", \"word_freq_000\", \"word_freq_money\", \"word_freq_hp\", \n",
        "                      \"word_freq_hpl\", \"word_freq_george\", \"word_freq_650\", \"word_freq_lab\", \"word_freq_labs\", \n",
        "                      \"word_freq_telnet\", \"word_freq_857\", \"word_freq_data\", \"word_freq_415\", \"word_freq_85\", \n",
        "                      \"word_freq_technology\", \"word_freq_1999\", \"word_freq_parts\", \"word_freq_pm\", \"word_freq_direct\",\n",
        "                      \"word_freq_cs\", \"word_freq_meeting\", \"word_freq_original\", \"word_freq_project\", \"word_freq_re\", \n",
        "                      \"word_freq_edu\", \"word_freq_table\", \"word_freq_conference\", \"char_freq_;\", \"char_freq_(\", \n",
        "                      \"char_freq_[\", \"char_freq_!\", \"char_freq_$\", \"char_freq_hash\", \"capital_run_length_average\", \n",
        "                      \"capital_run_length_longest\", \"capital_run_length_total\", \"spam\"]\n",
        "print(df.head())"
      ],
      "metadata": {
        "colab": {
          "base_uri": "https://localhost:8080/"
        },
        "id": "EDsa4iX2Muld",
        "outputId": "f3b718bb-6d23-4210-dbf7-ab5763ff1068"
      },
      "execution_count": null,
      "outputs": [
        {
          "output_type": "stream",
          "name": "stdout",
          "text": [
            "   word_freq_make  word_freq_address  word_freq_all  word_freq_3d  \\\n",
            "0            0.00               0.64           0.64           0.0   \n",
            "1            0.21               0.28           0.50           0.0   \n",
            "2            0.06               0.00           0.71           0.0   \n",
            "3            0.00               0.00           0.00           0.0   \n",
            "4            0.00               0.00           0.00           0.0   \n",
            "\n",
            "   word_freq_our  word_freq_over  word_freq_remove  word_freq_internet  \\\n",
            "0           0.32            0.00              0.00                0.00   \n",
            "1           0.14            0.28              0.21                0.07   \n",
            "2           1.23            0.19              0.19                0.12   \n",
            "3           0.63            0.00              0.31                0.63   \n",
            "4           0.63            0.00              0.31                0.63   \n",
            "\n",
            "   word_freq_order  word_freq_mail  ...  char_freq_;  char_freq_(  \\\n",
            "0             0.00            0.00  ...         0.00        0.000   \n",
            "1             0.00            0.94  ...         0.00        0.132   \n",
            "2             0.64            0.25  ...         0.01        0.143   \n",
            "3             0.31            0.63  ...         0.00        0.137   \n",
            "4             0.31            0.63  ...         0.00        0.135   \n",
            "\n",
            "   char_freq_[  char_freq_!  char_freq_$  char_freq_hash  \\\n",
            "0          0.0        0.778        0.000           0.000   \n",
            "1          0.0        0.372        0.180           0.048   \n",
            "2          0.0        0.276        0.184           0.010   \n",
            "3          0.0        0.137        0.000           0.000   \n",
            "4          0.0        0.135        0.000           0.000   \n",
            "\n",
            "   capital_run_length_average  capital_run_length_longest  \\\n",
            "0                       3.756                          61   \n",
            "1                       5.114                         101   \n",
            "2                       9.821                         485   \n",
            "3                       3.537                          40   \n",
            "4                       3.537                          40   \n",
            "\n",
            "   capital_run_length_total  spam  \n",
            "0                       278     1  \n",
            "1                      1028     1  \n",
            "2                      2259     1  \n",
            "3                       191     1  \n",
            "4                       191     1  \n",
            "\n",
            "[5 rows x 58 columns]\n"
          ]
        }
      ]
    },
    {
      "cell_type": "markdown",
      "source": [
        "# Split the data into a training set (70%) and a testing set (30%)\n"
      ],
      "metadata": {
        "id": "TL6GWy5AA58R"
      }
    },
    {
      "cell_type": "code",
      "source": [
        "X = df.drop('spam', axis=1)\n",
        "X = scale(X)\n",
        "y = df.spam.values.astype(int)\n",
        "X_train, X_test, y_train, y_test = train_test_split(X, y, test_size = 0.3, random_state = 4, shuffle=True)\n",
        "print(X_train.shape,y_train.shape,X_test.shape, y_test.shape)\n"
      ],
      "metadata": {
        "colab": {
          "base_uri": "https://localhost:8080/"
        },
        "id": "o9Uw86bJjLjj",
        "outputId": "90255b9a-5730-43cd-89cf-e4a8e5e6ad2a"
      },
      "execution_count": null,
      "outputs": [
        {
          "output_type": "stream",
          "name": "stdout",
          "text": [
            "(3220, 57) (3220,) (1381, 57) (1381,)\n"
          ]
        }
      ]
    },
    {
      "cell_type": "markdown",
      "source": [
        "#creating dataframe to display results nicely"
      ],
      "metadata": {
        "id": "-WBv1S2pMSPJ"
      }
    },
    {
      "cell_type": "code",
      "source": [
        "score = pd.DataFrame(\n",
        "   {\n",
        "      \"linear\": [0],\n",
        "      \"rbf\": [0],\n",
        "      \"poly\": [0]\n",
        "   },\n",
        "   index=[0.001, 0.01, 0.1, 1, 10, 100, 1000]\n",
        ")\n",
        "print(score)\n"
      ],
      "metadata": {
        "colab": {
          "base_uri": "https://localhost:8080/"
        },
        "id": "781M0B7lMAug",
        "outputId": "a4880a95-132e-4954-e350-feff7d0b0d14"
      },
      "execution_count": null,
      "outputs": [
        {
          "output_type": "stream",
          "name": "stdout",
          "text": [
            "          linear  rbf  poly\n",
            "0.001          0    0     0\n",
            "0.010          0    0     0\n",
            "0.100          0    0     0\n",
            "1.000          0    0     0\n",
            "10.000         0    0     0\n",
            "100.000        0    0     0\n",
            "1000.000       0    0     0\n"
          ]
        }
      ]
    },
    {
      "cell_type": "code",
      "source": [
        "from sklearn.svm import SVC\n",
        "\n",
        "# Set up the SVC model\n",
        "model = SVC()\n",
        "\n",
        "# Try different values of C\n",
        "for c in [0.001, 0.01, 0.1, 1, 10, 100, 1000]:\n",
        "  # SVC with linear kernel\n",
        "  svc = svm.SVC(kernel='linear', C=c)\n",
        "  svc.fit(X_train, y_train)\n",
        "  # LinearSVC (linear kernel)\n",
        "  lin_svc = svm.LinearSVC(C=c).fit(X_train, y_train)\n",
        "  # SVC with RBF kernel\n",
        "  rbf_svc = svm.SVC(kernel='rbf', gamma=0.7, C=c).fit(X_train, y_train)\n",
        "  # SVC with polynomial (degree 3) kernel\n",
        "  poly_svc = svm.SVC(kernel='poly', degree=2, C=c).fit(X_train, y_train)\n",
        "  \n",
        "  # Evaluate the model on the validation set\n",
        "  score.loc[c, 'linear'] = lin_svc.score(X_test, y_test)\n",
        "  score.loc[c, 'rbf'] = rbf_svc.score(X_test, y_test)\n",
        "  score.loc[c, 'poly'] = poly_svc.score(X_test, y_test)\n"
      ],
      "metadata": {
        "colab": {
          "base_uri": "https://localhost:8080/"
        },
        "id": "KW6gVGjmZkQv",
        "outputId": "3add29f7-25fe-4e0a-97a7-bca5e686cbeb"
      },
      "execution_count": null,
      "outputs": [
        {
          "output_type": "stream",
          "name": "stderr",
          "text": [
            "/usr/local/lib/python3.8/dist-packages/sklearn/svm/_base.py:1206: ConvergenceWarning: Liblinear failed to converge, increase the number of iterations.\n",
            "  warnings.warn(\n",
            "/usr/local/lib/python3.8/dist-packages/sklearn/svm/_base.py:1206: ConvergenceWarning: Liblinear failed to converge, increase the number of iterations.\n",
            "  warnings.warn(\n",
            "/usr/local/lib/python3.8/dist-packages/sklearn/svm/_base.py:1206: ConvergenceWarning: Liblinear failed to converge, increase the number of iterations.\n",
            "  warnings.warn(\n",
            "/usr/local/lib/python3.8/dist-packages/sklearn/svm/_base.py:1206: ConvergenceWarning: Liblinear failed to converge, increase the number of iterations.\n",
            "  warnings.warn(\n",
            "/usr/local/lib/python3.8/dist-packages/sklearn/svm/_base.py:1206: ConvergenceWarning: Liblinear failed to converge, increase the number of iterations.\n",
            "  warnings.warn(\n"
          ]
        }
      ]
    },
    {
      "cell_type": "markdown",
      "source": [
        "#we can see here that the best regularization parameter (C) for:\n",
        "##linear is 1\n",
        "##rbf is 10\n",
        "##poly is 10"
      ],
      "metadata": {
        "id": "6m6hhy5mPoDk"
      }
    },
    {
      "cell_type": "code",
      "source": [
        "score"
      ],
      "metadata": {
        "colab": {
          "base_uri": "https://localhost:8080/",
          "height": 266
        },
        "id": "FgQrq8svE2ed",
        "outputId": "c5b10e36-b0ec-4773-8509-257b9ac46898"
      },
      "execution_count": null,
      "outputs": [
        {
          "output_type": "execute_result",
          "data": {
            "text/plain": [
              "            linear       rbf      poly\n",
              "0.001     0.910210  0.614772  0.614772\n",
              "0.010     0.921072  0.614772  0.625634\n",
              "0.100     0.927589  0.627082  0.721217\n",
              "1.000     0.931209  0.802317  0.850109\n",
              "10.000    0.928313  0.808110  0.914555\n",
              "100.000   0.863143  0.807386  0.901521\n",
              "1000.000  0.899348  0.806662  0.890659"
            ],
            "text/html": [
              "\n",
              "  <div id=\"df-5e41ef83-4cd8-4287-b03d-d728dbb5b694\">\n",
              "    <div class=\"colab-df-container\">\n",
              "      <div>\n",
              "<style scoped>\n",
              "    .dataframe tbody tr th:only-of-type {\n",
              "        vertical-align: middle;\n",
              "    }\n",
              "\n",
              "    .dataframe tbody tr th {\n",
              "        vertical-align: top;\n",
              "    }\n",
              "\n",
              "    .dataframe thead th {\n",
              "        text-align: right;\n",
              "    }\n",
              "</style>\n",
              "<table border=\"1\" class=\"dataframe\">\n",
              "  <thead>\n",
              "    <tr style=\"text-align: right;\">\n",
              "      <th></th>\n",
              "      <th>linear</th>\n",
              "      <th>rbf</th>\n",
              "      <th>poly</th>\n",
              "    </tr>\n",
              "  </thead>\n",
              "  <tbody>\n",
              "    <tr>\n",
              "      <th>0.001</th>\n",
              "      <td>0.910210</td>\n",
              "      <td>0.614772</td>\n",
              "      <td>0.614772</td>\n",
              "    </tr>\n",
              "    <tr>\n",
              "      <th>0.010</th>\n",
              "      <td>0.921072</td>\n",
              "      <td>0.614772</td>\n",
              "      <td>0.625634</td>\n",
              "    </tr>\n",
              "    <tr>\n",
              "      <th>0.100</th>\n",
              "      <td>0.927589</td>\n",
              "      <td>0.627082</td>\n",
              "      <td>0.721217</td>\n",
              "    </tr>\n",
              "    <tr>\n",
              "      <th>1.000</th>\n",
              "      <td>0.931209</td>\n",
              "      <td>0.802317</td>\n",
              "      <td>0.850109</td>\n",
              "    </tr>\n",
              "    <tr>\n",
              "      <th>10.000</th>\n",
              "      <td>0.928313</td>\n",
              "      <td>0.808110</td>\n",
              "      <td>0.914555</td>\n",
              "    </tr>\n",
              "    <tr>\n",
              "      <th>100.000</th>\n",
              "      <td>0.863143</td>\n",
              "      <td>0.807386</td>\n",
              "      <td>0.901521</td>\n",
              "    </tr>\n",
              "    <tr>\n",
              "      <th>1000.000</th>\n",
              "      <td>0.899348</td>\n",
              "      <td>0.806662</td>\n",
              "      <td>0.890659</td>\n",
              "    </tr>\n",
              "  </tbody>\n",
              "</table>\n",
              "</div>\n",
              "      <button class=\"colab-df-convert\" onclick=\"convertToInteractive('df-5e41ef83-4cd8-4287-b03d-d728dbb5b694')\"\n",
              "              title=\"Convert this dataframe to an interactive table.\"\n",
              "              style=\"display:none;\">\n",
              "        \n",
              "  <svg xmlns=\"http://www.w3.org/2000/svg\" height=\"24px\"viewBox=\"0 0 24 24\"\n",
              "       width=\"24px\">\n",
              "    <path d=\"M0 0h24v24H0V0z\" fill=\"none\"/>\n",
              "    <path d=\"M18.56 5.44l.94 2.06.94-2.06 2.06-.94-2.06-.94-.94-2.06-.94 2.06-2.06.94zm-11 1L8.5 8.5l.94-2.06 2.06-.94-2.06-.94L8.5 2.5l-.94 2.06-2.06.94zm10 10l.94 2.06.94-2.06 2.06-.94-2.06-.94-.94-2.06-.94 2.06-2.06.94z\"/><path d=\"M17.41 7.96l-1.37-1.37c-.4-.4-.92-.59-1.43-.59-.52 0-1.04.2-1.43.59L10.3 9.45l-7.72 7.72c-.78.78-.78 2.05 0 2.83L4 21.41c.39.39.9.59 1.41.59.51 0 1.02-.2 1.41-.59l7.78-7.78 2.81-2.81c.8-.78.8-2.07 0-2.86zM5.41 20L4 18.59l7.72-7.72 1.47 1.35L5.41 20z\"/>\n",
              "  </svg>\n",
              "      </button>\n",
              "      \n",
              "  <style>\n",
              "    .colab-df-container {\n",
              "      display:flex;\n",
              "      flex-wrap:wrap;\n",
              "      gap: 12px;\n",
              "    }\n",
              "\n",
              "    .colab-df-convert {\n",
              "      background-color: #E8F0FE;\n",
              "      border: none;\n",
              "      border-radius: 50%;\n",
              "      cursor: pointer;\n",
              "      display: none;\n",
              "      fill: #1967D2;\n",
              "      height: 32px;\n",
              "      padding: 0 0 0 0;\n",
              "      width: 32px;\n",
              "    }\n",
              "\n",
              "    .colab-df-convert:hover {\n",
              "      background-color: #E2EBFA;\n",
              "      box-shadow: 0px 1px 2px rgba(60, 64, 67, 0.3), 0px 1px 3px 1px rgba(60, 64, 67, 0.15);\n",
              "      fill: #174EA6;\n",
              "    }\n",
              "\n",
              "    [theme=dark] .colab-df-convert {\n",
              "      background-color: #3B4455;\n",
              "      fill: #D2E3FC;\n",
              "    }\n",
              "\n",
              "    [theme=dark] .colab-df-convert:hover {\n",
              "      background-color: #434B5C;\n",
              "      box-shadow: 0px 1px 3px 1px rgba(0, 0, 0, 0.15);\n",
              "      filter: drop-shadow(0px 1px 2px rgba(0, 0, 0, 0.3));\n",
              "      fill: #FFFFFF;\n",
              "    }\n",
              "  </style>\n",
              "\n",
              "      <script>\n",
              "        const buttonEl =\n",
              "          document.querySelector('#df-5e41ef83-4cd8-4287-b03d-d728dbb5b694 button.colab-df-convert');\n",
              "        buttonEl.style.display =\n",
              "          google.colab.kernel.accessAllowed ? 'block' : 'none';\n",
              "\n",
              "        async function convertToInteractive(key) {\n",
              "          const element = document.querySelector('#df-5e41ef83-4cd8-4287-b03d-d728dbb5b694');\n",
              "          const dataTable =\n",
              "            await google.colab.kernel.invokeFunction('convertToInteractive',\n",
              "                                                     [key], {});\n",
              "          if (!dataTable) return;\n",
              "\n",
              "          const docLinkHtml = 'Like what you see? Visit the ' +\n",
              "            '<a target=\"_blank\" href=https://colab.research.google.com/notebooks/data_table.ipynb>data table notebook</a>'\n",
              "            + ' to learn more about interactive tables.';\n",
              "          element.innerHTML = '';\n",
              "          dataTable['output_type'] = 'display_data';\n",
              "          await google.colab.output.renderOutput(dataTable, element);\n",
              "          const docLink = document.createElement('div');\n",
              "          docLink.innerHTML = docLinkHtml;\n",
              "          element.appendChild(docLink);\n",
              "        }\n",
              "      </script>\n",
              "    </div>\n",
              "  </div>\n",
              "  "
            ]
          },
          "metadata": {},
          "execution_count": 9
        }
      ]
    }
  ]
}